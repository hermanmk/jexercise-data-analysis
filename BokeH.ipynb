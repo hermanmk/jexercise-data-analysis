{
 "cells": [
  {
   "cell_type": "code",
   "execution_count": 1,
   "metadata": {},
   "outputs": [
    {
     "data": {
      "text/html": [
       "<style>.container { width:100% !important; }</style>"
      ]
     },
     "output_type": "execute_result",
     "metadata": {}
    },
    {
     "data": {
      "text/html": [
       "\n",
       "    <div class=\"bk-root\">\n",
       "        <a href=\"https://bokeh.pydata.org\" target=\"_blank\" class=\"bk-logo bk-logo-small bk-logo-notebook\"></a>\n",
       "        <span id=\"c433b90a-c326-4419-bc35-d953ffdae8c8\">Loading BokehJS ...</span>\n",
       "    </div>"
      ]
     },
     "output_type": "execute_result",
     "metadata": {}
    },
    {
     "metadata": {}
    }
   ],
   "source": [
    "import pandas as pd\n",
    "import matplotlib.pyplot as plt\n",
    "from sklearn.preprocessing import StandardScaler, MinMaxScaler, MaxAbsScaler, normalize\n",
    "\n",
    "from bokeh.plotting import figure, show, ColumnDataSource\n",
    "from bokeh.models import HoverTool, CustomJS, Slider\n",
    "from bokeh.models.widgets import Div, Paragraph, Select\n",
    "from bokeh.events import Tap, DoubleTap\n",
    "from bokeh.layouts import layout\n",
    "from bokeh.io import output_notebook, push_notebook\n",
    "\n",
    "from ipywidgets import interact, interactive, SelectMultiple\n",
    "\n",
    "from IPython.core.display import display, HTML\n",
    "# Setting full width for this notebook so we can arrange elements next to eachother\n",
    "display(HTML(\"<style>.container { width:100% !important; }</style>\"))\n",
    "\n",
    "import preprocessing_data\n",
    "\n",
    "output_notebook()"
   ]
  },
  {
   "cell_type": "code",
   "execution_count": 2,
   "metadata": {},
   "outputs": [
    {
     "name": "stderr",
     "output_type": "stream",
     "text": [
      "c:\\programdata\\anaconda3\\envs\\jexercise\\lib\\site-packages\\pandas\\core\\indexing.py:194: SettingWithCopyWarning: \n",
      "A value is trying to be set on a copy of a slice from a DataFrame\n",
      "\n",
      "See the caveats in the documentation: http://pandas.pydata.org/pandas-docs/stable/indexing.html#indexing-view-versus-copy\n",
      "  self._setitem_with_indexer(indexer, value)\n"
     ]
    }
   ],
   "source": [
    "df = preprocessing_data.read_and_preprocess_from_csv('data/csv/oving5/1395669706/Partner.csv')"
   ]
  },
  {
   "cell_type": "code",
   "execution_count": 34,
   "metadata": {},
   "outputs": [
    {
     "name": "stdout",
     "output_type": "stream",
     "text": [
      "This file has only been edited once, skipping.\n"
     ]
    },
    {
     "name": "stderr",
     "output_type": "stream",
     "text": [
      "c:\\users\\herman\\appdata\\local\\conda\\conda\\envs\\jexercise\\lib\\site-packages\\pandas\\core\\indexing.py:194: SettingWithCopyWarning: \n",
      "A value is trying to be set on a copy of a slice from a DataFrame\n",
      "\n",
      "See the caveats in the documentation: http://pandas.pydata.org/pandas-docs/stable/indexing.html#indexing-view-versus-copy\n",
      "  self._setitem_with_indexer(indexer, value)\n"
     ]
    }
   ],
   "source": [
    "df = preprocessing_data.read_and_preprocess_from_csv('data/csv/oving5/0141126194/Card.csv')"
   ]
  },
  {
   "cell_type": "code",
   "execution_count": null,
   "metadata": {},
   "outputs": [],
   "source": [
    "df = preprocessing_data.get_df_from_csv('data/csv/oving5/1395669706/Partner.csv')"
   ]
  },
  {
   "cell_type": "code",
   "execution_count": 3,
   "metadata": {},
   "outputs": [],
   "source": [
    "file_number = 0\n",
    "div = None"
   ]
  },
  {
   "cell_type": "code",
   "execution_count": 4,
   "metadata": {},
   "outputs": [],
   "source": [
    "def format_source_code(source_code):\n",
    "    source_code = source_code.replace(\"\\n\", \"<br />\").replace(\"\\t\", \"&emsp;\")\n",
    "    return \"<p style='font-size: 90%; line-height: 100%'>{}</p>\".format(source_code)"
   ]
  },
  {
   "cell_type": "code",
   "execution_count": 5,
   "metadata": {},
   "outputs": [],
   "source": [
    "def show_source_code(x, y):\n",
    "    x = round(x)\n",
    "    y = round(y)\n",
    "    date_time = pd.to_datetime(x, unit=\"ms\")\n",
    "    nearest_row = df.iloc[df.index.get_loc(date_time, method='nearest')]\n",
    "    source_code = nearest_row['SourceCode' + file_number]\n",
    "    div.text = format_source_code(source_code)\n",
    "    push_notebook()"
   ]
  },
  {
   "cell_type": "code",
   "execution_count": 6,
   "metadata": {},
   "outputs": [],
   "source": [
    "def register_event():\n",
    "    \"Build a suitable CustomJS to get the selected x and y values\"\n",
    "    return CustomJS(code=\"\"\"\n",
    "        var x = cb_obj['x'];\n",
    "        var y = cb_obj['y'];\n",
    "        var sx = cb_obj['sx'];\n",
    "        var sy = cb_obj['sy'];\n",
    "        if (IPython.notebook.kernel !== undefined) {\n",
    "            var kernel = IPython.notebook.kernel;\n",
    "            cmd = \"show_source_code(\" + x + \", \" + y + \")\";\n",
    "            kernel.execute(cmd, {}, {});\n",
    "        }\n",
    "    \"\"\")"
   ]
  },
  {
   "cell_type": "code",
   "execution_count": 7,
   "metadata": {},
   "outputs": [],
   "source": [
    "def show_size_measure(SizeMeasure, columns):\n",
    "    global file_number, div, df\n",
    "    \n",
    "    if SizeMeasure not in columns:\n",
    "        columns += (SizeMeasure,)\n",
    "    \n",
    "    # If no columns are selected, don't do anything\n",
    "    if not columns:\n",
    "        return\n",
    "    \n",
    "    df_copy = df.copy()\n",
    "    \n",
    "    df_copy['Index_formatted'] = df_copy.index.strftime(\"%d-%m %H:%M:%S\")\n",
    "    \n",
    "    if len(columns) > 1:\n",
    "        # Scaling just the columns we want to plot\n",
    "        scaled = MinMaxScaler().fit_transform(df_copy.loc[:, columns])\n",
    "    else:\n",
    "        scaled = df_copy.loc[:, columns].values\n",
    "    # Create a new DataFrame from the scaled Series, adding a '_scaled' suffix to the column names\n",
    "    scaled_df = pd.DataFrame(scaled, index=df_copy.index, columns=[col + '_scaled' for col in columns])\n",
    "    # Lastly, merge the scaled columns into the original df\n",
    "    df_copy = df_copy.merge(scaled_df, left_index=True, right_index=True)\n",
    "    \n",
    "    source = ColumnDataSource(df_copy)\n",
    "    \n",
    "    file_number = ''.join(filter(str.isdigit, SizeMeasure))\n",
    "    if len(file_number) < 1:\n",
    "        file_number = '1'\n",
    "    \n",
    "    line_color = [\n",
    "        '#2196F3',\n",
    "        '#FF9800',\n",
    "        '#F44336',\n",
    "        '#9C27B0',\n",
    "        '#8BC34A',\n",
    "        '#795548',\n",
    "        '#607D8B'\n",
    "    ]\n",
    "    \n",
    "    hover_text = ''\n",
    "    for i in range(len(columns)):\n",
    "        hover_text += '<span style=\"font-size: 10px; color: {1};\">{0}: @{0}</span><br />'.format(columns[i], line_color[i])\n",
    "    \n",
    "    hover = HoverTool( tooltips=\"\"\"\n",
    "        <div>\n",
    "            <div>\n",
    "                <span style=\"font-size: 12px; color: #01579B;\">Timestamp: @Index_formatted</span><br />\n",
    "                {0}\n",
    "            </div>\n",
    "        </div>\n",
    "        \"\"\".format(hover_text)\n",
    "    )\n",
    "    \n",
    "    p = figure(x_axis_type=\"datetime\", plot_width=900, plot_height=400, tools=[hover,\"pan\",\"wheel_zoom\",\"box_zoom\",\"reset\"],\n",
    "               title=\"SizeMeasure and SourceCode\")\n",
    "    \n",
    "    # Retrieving the first row where time completion == 1:\n",
    "    first_completed = df_copy[df_copy['Completion' + file_number] == 1.0].iloc[0]\n",
    "    \n",
    "    # Drawing a green circle to indicate where the student first achieved completion == 1\n",
    "    p.circle(first_completed.name, first_completed[SizeMeasure + '_scaled'], line_width=8, line_color=\"#1B5E20\", fill_color='#1B5E20')\n",
    "\n",
    "    for j in range(len(columns)):\n",
    "        p.line('index', columns[j] + '_scaled', line_width=2, line_color=line_color[j], source=source)\n",
    "    \n",
    "    p.js_on_event(Tap, register_event())\n",
    "    p.js_on_event(DoubleTap, register_event())\n",
    "    \n",
    "    div = Div(text=\"\", width=640)\n",
    "    \n",
    "    # Setting the div to max number of empty lines\n",
    "    div.text = format_source_code('\\n' * int(df_copy[SizeMeasure].max()))\n",
    "    \n",
    "    plot_layout = layout([\n",
    "        [p, div],\n",
    "    ])\n",
    "    \n",
    "    # Set the div's text to the source code of the first (valid) index. Does not work!\n",
    "    # div.text = format_source_code(df.loc[df[sm_selected].first_valid_index()])\n",
    "    \n",
    "    show(plot_layout, notebook_handle=True)"
   ]
  },
  {
   "cell_type": "code",
   "execution_count": 8,
   "metadata": {},
   "outputs": [],
   "source": [
    "sel = SelectMultiple(\n",
    "    options=list(df.columns),\n",
    "    value=[],\n",
    "    rows=10,\n",
    "    description='Columns:',\n",
    "    disabled=False\n",
    ")"
   ]
  },
  {
   "cell_type": "code",
   "execution_count": 9,
   "metadata": {},
   "outputs": [
    {
     "data": {
      "text/html": [
       "<p>Failed to display Jupyter Widget of type <code>interactive</code>.</p>\n",
       "<p>\n",
       "  If you're reading this message in the Jupyter Notebook or JupyterLab Notebook, it may mean\n",
       "  that the widgets JavaScript is still loading. If this message persists, it\n",
       "  likely means that the widgets JavaScript library is either not installed or\n",
       "  not enabled. See the <a href=\"https://ipywidgets.readthedocs.io/en/stable/user_install.html\">Jupyter\n",
       "  Widgets Documentation</a> for setup instructions.\n",
       "</p>\n",
       "<p>\n",
       "  If you're reading this message in another frontend (for example, a static\n",
       "  rendering on GitHub or <a href=\"https://nbviewer.jupyter.org/\">NBViewer</a>),\n",
       "  it may mean that your frontend doesn't currently support widgets.\n",
       "</p>\n"
      ]
     },
     "output_type": "execute_result",
     "metadata": {}
    },
    {
     "data": {
      "text/plain": [
       "<function __main__.show_size_measure>"
      ]
     },
     "execution_count": 9,
     "output_type": "execute_result",
     "metadata": {}
    }
   ],
   "source": [
    "interact(show_size_measure,\n",
    "         SizeMeasure=list(df.filter(regex='^SizeMeasure\\d{1,}$').columns),\n",
    "         columns=sel,\n",
    "        )"
   ]
  },
  {
   "cell_type": "code",
   "execution_count": null,
   "metadata": {},
   "outputs": [],
   "source": [
    "plot_layout = layout([\n",
    "    [p],\n",
    "    [div]\n",
    "])"
   ]
  },
  {
   "cell_type": "code",
   "execution_count": null,
   "metadata": {},
   "outputs": [],
   "source": [
    "show(plot_layout, notebook_handle=True)"
   ]
  },
  {
   "cell_type": "code",
   "execution_count": null,
   "metadata": {},
   "outputs": [],
   "source": [
    "show(p, notebook_handle=True)"
   ]
  },
  {
   "cell_type": "code",
   "execution_count": null,
   "metadata": {},
   "outputs": [],
   "source": [
    "show(div, notebook_handle=True)"
   ]
  }
 ],
 "metadata": {
  "kernelspec": {
   "display_name": "Python 3",
   "language": "python",
   "name": "python3"
  },
  "language_info": {
   "codemirror_mode": {
    "name": "ipython",
    "version": 3.0
   },
   "file_extension": ".py",
   "mimetype": "text/x-python",
   "name": "python",
   "nbconvert_exporter": "python",
   "pygments_lexer": "ipython3",
   "version": "3.5.4"
  }
 },
 "nbformat": 4,
 "nbformat_minor": 2
}