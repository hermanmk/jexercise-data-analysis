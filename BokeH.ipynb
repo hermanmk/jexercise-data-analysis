{
 "cells": [
  {
   "cell_type": "code",
   "execution_count": 1,
   "metadata": {},
   "outputs": [
    {
     "data": {
      "text/html": [
       "<style>.container { width:100% !important; }</style>"
      ],
      "text/plain": [
       "<IPython.core.display.HTML object>"
      ]
     },
     "metadata": {},
     "output_type": "display_data"
    },
    {
     "data": {
      "text/html": [
       "\n",
       "    <div class=\"bk-root\">\n",
       "        <a href=\"https://bokeh.pydata.org\" target=\"_blank\" class=\"bk-logo bk-logo-small bk-logo-notebook\"></a>\n",
       "        <span id=\"dbb00aa4-db3c-47de-9fcb-371f89cfa2ac\">Loading BokehJS ...</span>\n",
       "    </div>"
      ]
     },
     "metadata": {},
     "output_type": "display_data"
    },
    {
     "data": {
      "application/javascript": [
       "\n",
       "(function(root) {\n",
       "  function now() {\n",
       "    return new Date();\n",
       "  }\n",
       "\n",
       "  var force = true;\n",
       "\n",
       "  if (typeof (root._bokeh_onload_callbacks) === \"undefined\" || force === true) {\n",
       "    root._bokeh_onload_callbacks = [];\n",
       "    root._bokeh_is_loading = undefined;\n",
       "  }\n",
       "\n",
       "\n",
       "  \n",
       "  if (typeof (root._bokeh_timeout) === \"undefined\" || force === true) {\n",
       "    root._bokeh_timeout = Date.now() + 5000;\n",
       "    root._bokeh_failed_load = false;\n",
       "  }\n",
       "\n",
       "  var NB_LOAD_WARNING = {'data': {'text/html':\n",
       "     \"<div style='background-color: #fdd'>\\n\"+\n",
       "     \"<p>\\n\"+\n",
       "     \"BokehJS does not appear to have successfully loaded. If loading BokehJS from CDN, this \\n\"+\n",
       "     \"may be due to a slow or bad network connection. Possible fixes:\\n\"+\n",
       "     \"</p>\\n\"+\n",
       "     \"<ul>\\n\"+\n",
       "     \"<li>re-rerun `output_notebook()` to attempt to load from CDN again, or</li>\\n\"+\n",
       "     \"<li>use INLINE resources instead, as so:</li>\\n\"+\n",
       "     \"</ul>\\n\"+\n",
       "     \"<code>\\n\"+\n",
       "     \"from bokeh.resources import INLINE\\n\"+\n",
       "     \"output_notebook(resources=INLINE)\\n\"+\n",
       "     \"</code>\\n\"+\n",
       "     \"</div>\"}};\n",
       "\n",
       "  function display_loaded() {\n",
       "    if (root.Bokeh !== undefined) {\n",
       "      var el = document.getElementById(\"dbb00aa4-db3c-47de-9fcb-371f89cfa2ac\");\n",
       "      if (el != null) {\n",
       "        el.textContent = \"BokehJS \" + Bokeh.version + \" successfully loaded.\";\n",
       "      }\n",
       "    } else if (Date.now() < root._bokeh_timeout) {\n",
       "      setTimeout(display_loaded, 100)\n",
       "    }\n",
       "  }\n",
       "\n",
       "\n",
       "  function run_callbacks() {\n",
       "    try {\n",
       "      root._bokeh_onload_callbacks.forEach(function(callback) { callback() });\n",
       "    }\n",
       "    finally {\n",
       "      delete root._bokeh_onload_callbacks\n",
       "    }\n",
       "    console.info(\"Bokeh: all callbacks have finished\");\n",
       "  }\n",
       "\n",
       "  function load_libs(js_urls, callback) {\n",
       "    root._bokeh_onload_callbacks.push(callback);\n",
       "    if (root._bokeh_is_loading > 0) {\n",
       "      console.log(\"Bokeh: BokehJS is being loaded, scheduling callback at\", now());\n",
       "      return null;\n",
       "    }\n",
       "    if (js_urls == null || js_urls.length === 0) {\n",
       "      run_callbacks();\n",
       "      return null;\n",
       "    }\n",
       "    console.log(\"Bokeh: BokehJS not loaded, scheduling load and callback at\", now());\n",
       "    root._bokeh_is_loading = js_urls.length;\n",
       "    for (var i = 0; i < js_urls.length; i++) {\n",
       "      var url = js_urls[i];\n",
       "      var s = document.createElement('script');\n",
       "      s.src = url;\n",
       "      s.async = false;\n",
       "      s.onreadystatechange = s.onload = function() {\n",
       "        root._bokeh_is_loading--;\n",
       "        if (root._bokeh_is_loading === 0) {\n",
       "          console.log(\"Bokeh: all BokehJS libraries loaded\");\n",
       "          run_callbacks()\n",
       "        }\n",
       "      };\n",
       "      s.onerror = function() {\n",
       "        console.warn(\"failed to load library \" + url);\n",
       "      };\n",
       "      console.log(\"Bokeh: injecting script tag for BokehJS library: \", url);\n",
       "      document.getElementsByTagName(\"head\")[0].appendChild(s);\n",
       "    }\n",
       "  };var element = document.getElementById(\"dbb00aa4-db3c-47de-9fcb-371f89cfa2ac\");\n",
       "  if (element == null) {\n",
       "    console.log(\"Bokeh: ERROR: autoload.js configured with elementid 'dbb00aa4-db3c-47de-9fcb-371f89cfa2ac' but no matching script tag was found. \")\n",
       "    return false;\n",
       "  }\n",
       "\n",
       "  var js_urls = [\"https://cdn.pydata.org/bokeh/release/bokeh-0.12.7.min.js\", \"https://cdn.pydata.org/bokeh/release/bokeh-widgets-0.12.7.min.js\", \"https://cdn.pydata.org/bokeh/release/bokeh-tables-0.12.7.min.js\", \"https://cdn.pydata.org/bokeh/release/bokeh-gl-0.12.7.min.js\"];\n",
       "\n",
       "  var inline_js = [\n",
       "    function(Bokeh) {\n",
       "      Bokeh.set_log_level(\"info\");\n",
       "    },\n",
       "    \n",
       "    function(Bokeh) {\n",
       "      \n",
       "    },\n",
       "    \n",
       "    function(Bokeh) {\n",
       "      \n",
       "      document.getElementById(\"dbb00aa4-db3c-47de-9fcb-371f89cfa2ac\").textContent = \"BokehJS is loading...\";\n",
       "    },\n",
       "    function(Bokeh) {\n",
       "      console.log(\"Bokeh: injecting CSS: https://cdn.pydata.org/bokeh/release/bokeh-0.12.7.min.css\");\n",
       "      Bokeh.embed.inject_css(\"https://cdn.pydata.org/bokeh/release/bokeh-0.12.7.min.css\");\n",
       "      console.log(\"Bokeh: injecting CSS: https://cdn.pydata.org/bokeh/release/bokeh-widgets-0.12.7.min.css\");\n",
       "      Bokeh.embed.inject_css(\"https://cdn.pydata.org/bokeh/release/bokeh-widgets-0.12.7.min.css\");\n",
       "      console.log(\"Bokeh: injecting CSS: https://cdn.pydata.org/bokeh/release/bokeh-tables-0.12.7.min.css\");\n",
       "      Bokeh.embed.inject_css(\"https://cdn.pydata.org/bokeh/release/bokeh-tables-0.12.7.min.css\");\n",
       "    }\n",
       "  ];\n",
       "\n",
       "  function run_inline_js() {\n",
       "    \n",
       "    if ((root.Bokeh !== undefined) || (force === true)) {\n",
       "      for (var i = 0; i < inline_js.length; i++) {\n",
       "        inline_js[i].call(root, root.Bokeh);\n",
       "      }if (force === true) {\n",
       "        display_loaded();\n",
       "      }} else if (Date.now() < root._bokeh_timeout) {\n",
       "      setTimeout(run_inline_js, 100);\n",
       "    } else if (!root._bokeh_failed_load) {\n",
       "      console.log(\"Bokeh: BokehJS failed to load within specified timeout.\");\n",
       "      root._bokeh_failed_load = true;\n",
       "    } else if (force !== true) {\n",
       "      var cell = $(document.getElementById(\"dbb00aa4-db3c-47de-9fcb-371f89cfa2ac\")).parents('.cell').data().cell;\n",
       "      cell.output_area.append_execute_result(NB_LOAD_WARNING)\n",
       "    }\n",
       "\n",
       "  }\n",
       "\n",
       "  if (root._bokeh_is_loading === 0) {\n",
       "    console.log(\"Bokeh: BokehJS loaded, going straight to plotting\");\n",
       "    run_inline_js();\n",
       "  } else {\n",
       "    load_libs(js_urls, function() {\n",
       "      console.log(\"Bokeh: BokehJS plotting callback run at\", now());\n",
       "      run_inline_js();\n",
       "    });\n",
       "  }\n",
       "}(window));"
      ]
     },
     "metadata": {},
     "output_type": "display_data"
    }
   ],
   "source": [
    "import pandas as pd\n",
    "import matplotlib.pyplot as plt\n",
    "from sklearn.preprocessing import StandardScaler, MinMaxScaler, MaxAbsScaler, normalize\n",
    "\n",
    "from bokeh.plotting import figure, show, ColumnDataSource\n",
    "from bokeh.models import HoverTool, CustomJS, Slider\n",
    "from bokeh.models.widgets import Div, Paragraph, Select\n",
    "from bokeh.events import Tap, DoubleTap\n",
    "from bokeh.layouts import layout\n",
    "from bokeh.io import output_notebook, push_notebook\n",
    "\n",
    "from ipywidgets import interact, interactive, SelectMultiple\n",
    "\n",
    "from IPython.core.display import display, HTML\n",
    "# Setting full width for this notebook so we can arrange elements next to eachother\n",
    "display(HTML(\"<style>.container { width:100% !important; }</style>\"))\n",
    "\n",
    "import preprocessing_data\n",
    "\n",
    "output_notebook()"
   ]
  },
  {
   "cell_type": "code",
   "execution_count": 2,
   "metadata": {},
   "outputs": [
    {
     "name": "stderr",
     "output_type": "stream",
     "text": [
      "C:\\ProgramData\\Anaconda3\\lib\\site-packages\\pandas\\core\\indexing.py:194: SettingWithCopyWarning: \n",
      "A value is trying to be set on a copy of a slice from a DataFrame\n",
      "\n",
      "See the caveats in the documentation: http://pandas.pydata.org/pandas-docs/stable/indexing.html#indexing-view-versus-copy\n",
      "  self._setitem_with_indexer(indexer, value)\n"
     ]
    }
   ],
   "source": [
    "df = preprocessing_data.read_and_preprocess_from_csv('data/csv/oving5/1395669706/Partner.csv')"
   ]
  },
  {
   "cell_type": "code",
   "execution_count": 34,
   "metadata": {},
   "outputs": [
    {
     "name": "stdout",
     "output_type": "stream",
     "text": [
      "This file has only been edited once, skipping.\n"
     ]
    },
    {
     "name": "stderr",
     "output_type": "stream",
     "text": [
      "c:\\users\\herman\\appdata\\local\\conda\\conda\\envs\\jexercise\\lib\\site-packages\\pandas\\core\\indexing.py:194: SettingWithCopyWarning: \n",
      "A value is trying to be set on a copy of a slice from a DataFrame\n",
      "\n",
      "See the caveats in the documentation: http://pandas.pydata.org/pandas-docs/stable/indexing.html#indexing-view-versus-copy\n",
      "  self._setitem_with_indexer(indexer, value)\n"
     ]
    }
   ],
   "source": [
    "df = preprocessing_data.read_and_preprocess_from_csv('data/csv/oving5/0141126194/Card.csv')"
   ]
  },
  {
   "cell_type": "code",
   "execution_count": null,
   "metadata": {
    "collapsed": true
   },
   "outputs": [],
   "source": [
    "df = preprocessing_data.get_df_from_csv('data/csv/oving5/1395669706/Partner.csv')"
   ]
  },
  {
   "cell_type": "code",
   "execution_count": 3,
   "metadata": {
    "collapsed": true
   },
   "outputs": [],
   "source": [
    "file_number = 0\n",
    "div = None"
   ]
  },
  {
   "cell_type": "code",
   "execution_count": 4,
   "metadata": {
    "collapsed": true
   },
   "outputs": [],
   "source": [
    "def format_source_code(source_code):\n",
    "    source_code = source_code.replace(\"\\n\", \"<br />\").replace(\"\\t\", \"&emsp;\")\n",
    "    return \"<p style='font-size: 90%; line-height: 100%'>{}</p>\".format(source_code)"
   ]
  },
  {
   "cell_type": "code",
   "execution_count": 5,
   "metadata": {
    "collapsed": true
   },
   "outputs": [],
   "source": [
    "def show_source_code(x, y):\n",
    "    x = round(x)\n",
    "    y = round(y)\n",
    "    date_time = pd.to_datetime(x, unit=\"ms\")\n",
    "    nearest_row = df.iloc[df.index.get_loc(date_time, method='nearest')]\n",
    "    source_code = nearest_row['SourceCode' + file_number]\n",
    "    div.text = format_source_code(source_code)\n",
    "    push_notebook()"
   ]
  },
  {
   "cell_type": "code",
   "execution_count": 6,
   "metadata": {
    "collapsed": true
   },
   "outputs": [],
   "source": [
    "def register_event():\n",
    "    \"Build a suitable CustomJS to get the selected x and y values\"\n",
    "    return CustomJS(code=\"\"\"\n",
    "        var x = cb_obj['x'];\n",
    "        var y = cb_obj['y'];\n",
    "        var sx = cb_obj['sx'];\n",
    "        var sy = cb_obj['sy'];\n",
    "        if (IPython.notebook.kernel !== undefined) {\n",
    "            var kernel = IPython.notebook.kernel;\n",
    "            cmd = \"show_source_code(\" + x + \", \" + y + \")\";\n",
    "            kernel.execute(cmd, {}, {});\n",
    "        }\n",
    "    \"\"\")"
   ]
  },
  {
   "cell_type": "code",
   "execution_count": 10,
   "metadata": {
    "collapsed": true
   },
   "outputs": [],
   "source": [
    "def show_size_measure(SizeMeasure, columns):\n",
    "    global file_number, div, df\n",
    "    \n",
    "    if SizeMeasure not in columns:\n",
    "        columns += (SizeMeasure,)\n",
    "    \n",
    "    # If no columns are selected, don't do anything\n",
    "    if not columns:\n",
    "        return\n",
    "    \n",
    "    df_copy = df.copy()\n",
    "    \n",
    "    df_copy['Index_formatted'] = df_copy.index.strftime(\"%d-%m %H:%M:%S\")\n",
    "    \n",
    "    if len(columns) > 1:\n",
    "        # Scaling just the columns we want to plot\n",
    "        scaled = MinMaxScaler().fit_transform(df_copy.loc[:, columns])\n",
    "    else:\n",
    "        scaled = df_copy.loc[:, columns].values\n",
    "    # Create a new DataFrame from the scaled Series, adding a '_scaled' suffix to the column names\n",
    "    scaled_df = pd.DataFrame(scaled, index=df_copy.index, columns=[col + '_scaled' for col in columns])\n",
    "    # Lastly, merge the scaled columns into the original df\n",
    "    df_copy = df_copy.merge(scaled_df, left_index=True, right_index=True)\n",
    "    \n",
    "    source = ColumnDataSource(df_copy)\n",
    "    \n",
    "    file_number = ''.join(filter(str.isdigit, SizeMeasure))\n",
    "    if len(file_number) < 1:\n",
    "        file_number = '1'\n",
    "    \n",
    "    line_color = [\n",
    "        '#2196F3',\n",
    "        '#FF9800',\n",
    "        '#F44336',\n",
    "        '#9C27B0',\n",
    "        '#8BC34A',\n",
    "        '#795548',\n",
    "        '#607D8B'\n",
    "    ]\n",
    "    \n",
    "    hover_text = ''\n",
    "    for i in range(len(columns)):\n",
    "        hover_text += '<span style=\"font-size: 10px; color: {1};\">{0}: @{0}</span><br />'.format(columns[i], line_color[i])\n",
    "    \n",
    "    hover = HoverTool( tooltips=\"\"\"\n",
    "        <div>\n",
    "            <div>\n",
    "                <span style=\"font-size: 12px; color: #01579B;\">Timestamp: @Index_formatted</span><br />\n",
    "                {0}\n",
    "            </div>\n",
    "        </div>\n",
    "        \"\"\".format(hover_text)\n",
    "    )\n",
    "    \n",
    "    p = figure(x_axis_type=\"datetime\", plot_width=900, plot_height=400, tools=[hover,\"pan\",\"wheel_zoom\",\"box_zoom\",\"reset\",\"save\"],\n",
    "               title=\"SizeMeasure and SourceCode\")\n",
    "    \n",
    "    # Retrieving the first row where time completion == 1:\n",
    "    first_completed = df_copy[df_copy['Completion' + file_number] == 1.0].iloc[0]\n",
    "    \n",
    "    # Drawing a green circle to indicate where the student first achieved completion == 1\n",
    "    p.circle(first_completed.name, first_completed[SizeMeasure + '_scaled'], line_width=8, line_color=\"#1B5E20\", fill_color='#1B5E20')\n",
    "\n",
    "    for j in range(len(columns)):\n",
    "        p.line('index', columns[j] + '_scaled', line_width=2, line_color=line_color[j], source=source)\n",
    "    \n",
    "    p.js_on_event(Tap, register_event())\n",
    "    p.js_on_event(DoubleTap, register_event())\n",
    "    \n",
    "    div = Div(text=\"\", width=640)\n",
    "    \n",
    "    # Setting the div to max number of empty lines\n",
    "    div.text = format_source_code('\\n' * int(df_copy[SizeMeasure].max()))\n",
    "    \n",
    "    plot_layout = layout([\n",
    "        [p, div],\n",
    "    ])\n",
    "    \n",
    "    # Set the div's text to the source code of the first (valid) index. Does not work!\n",
    "    # div.text = format_source_code(df.loc[df[sm_selected].first_valid_index()])\n",
    "    \n",
    "    show(plot_layout, notebook_handle=True)"
   ]
  },
  {
   "cell_type": "code",
   "execution_count": 11,
   "metadata": {
    "collapsed": true
   },
   "outputs": [],
   "source": [
    "sel = SelectMultiple(\n",
    "    options=list(df.columns),\n",
    "    value=[],\n",
    "    rows=10,\n",
    "    description='Columns:',\n",
    "    disabled=False\n",
    ")"
   ]
  },
  {
   "cell_type": "code",
   "execution_count": 12,
   "metadata": {},
   "outputs": [
    {
     "data": {
      "application/vnd.jupyter.widget-view+json": {
       "model_id": "8aef89cf5e90458490a953f34811f475",
       "version_major": 2,
       "version_minor": 0
      },
      "text/plain": [
       "A Jupyter Widget"
      ]
     },
     "metadata": {},
     "output_type": "display_data"
    },
    {
     "data": {
      "text/plain": [
       "<function __main__.show_size_measure>"
      ]
     },
     "execution_count": 12,
     "metadata": {},
     "output_type": "execute_result"
    }
   ],
   "source": [
    "interact(show_size_measure,\n",
    "         SizeMeasure=list(df.filter(regex='^SizeMeasure\\d{1,}$').columns),\n",
    "         columns=sel,\n",
    "        )"
   ]
  },
  {
   "cell_type": "code",
   "execution_count": null,
   "metadata": {
    "collapsed": true
   },
   "outputs": [],
   "source": [
    "plot_layout = layout([\n",
    "    [p],\n",
    "    [div]\n",
    "])"
   ]
  },
  {
   "cell_type": "code",
   "execution_count": null,
   "metadata": {
    "collapsed": true
   },
   "outputs": [],
   "source": [
    "show(plot_layout, notebook_handle=True)"
   ]
  },
  {
   "cell_type": "code",
   "execution_count": null,
   "metadata": {
    "collapsed": true
   },
   "outputs": [],
   "source": [
    "show(p, notebook_handle=True)"
   ]
  },
  {
   "cell_type": "code",
   "execution_count": null,
   "metadata": {
    "collapsed": true
   },
   "outputs": [],
   "source": [
    "show(div, notebook_handle=True)"
   ]
  }
 ],
 "metadata": {
  "kernelspec": {
   "display_name": "Python 3",
   "language": "python",
   "name": "python3"
  },
  "language_info": {
   "codemirror_mode": {
    "name": "ipython",
    "version": 3
   },
   "file_extension": ".py",
   "mimetype": "text/x-python",
   "name": "python",
   "nbconvert_exporter": "python",
   "pygments_lexer": "ipython3",
   "version": "3.6.2"
  }
 },
 "nbformat": 4,
 "nbformat_minor": 2
}
