{
 "cells": [
  {
   "cell_type": "code",
   "execution_count": 1,
   "metadata": {
    "collapsed": true
   },
   "outputs": [],
   "source": [
    "from html import unescape"
   ]
  },
  {
   "cell_type": "code",
   "execution_count": 2,
   "metadata": {
    "collapsed": true
   },
   "outputs": [],
   "source": [
    "storedString=\"package objectstructures;&#xA;&#xA;public class Partner {&#xA;&#x9;&#xA;&#x9;private String name;&#xA;&#x9;private String partnerName;&#xA;&#x9;&#xA;&#x9;public Partner(String name, String partnerName) {&#xA;&#x9;&#x9;this.name = name;&#xA;&#x9;&#x9;this.partnerName = partnerName;&#xA;&#x9;}&#xA;&#x9;&#xA;&#x9;public String getName() {&#xA;&#x9;&#x9;return name;&#xA;&#x9;}&#xA;&#x9;&#xA;&#x9;public String getPartnerName() {&#xA;&#x9;&#x9;return partnerName;&#xA;&#x9;}&#xA;&#xA;}&#xA;\""
   ]
  },
  {
   "cell_type": "code",
   "execution_count": 3,
   "metadata": {
    "collapsed": true
   },
   "outputs": [],
   "source": [
    "def patch(original, edit, start, end):\n",
    "    original = unescape(original)\n",
    "    edit = unescape(edit)\n",
    "    patched = original[:start] + edit + original[end + 1:]\n",
    "    print('Character diff:', str(len(patched) - len(original)))\n",
    "    return patched"
   ]
  },
  {
   "cell_type": "code",
   "execution_count": 4,
   "metadata": {},
   "outputs": [
    {
     "name": "stdout",
     "output_type": "stream",
     "text": [
      "package objectstructures;\n",
      "\n",
      "public class Partner {\n",
      "\t\n",
      "\tprivate String name;\n",
      "\tprivate String partnerName;\n",
      "\t\n",
      "\tpublic Partner(String name, String partnerName) {\n",
      "\t\tthis.name = name;\n",
      "\t\tthis.partnerName = partnerName;\n",
      "\t}\n",
      "\t\n",
      "\tpublic String getName() {\n",
      "\t\treturn name;\n",
      "\t}\n",
      "\t\n",
      "\tpublic String getPartnerName() {\n",
      "\t\treturn partnerName;\n",
      "\t}\n",
      "\n",
      "}\n",
      "\n",
      "324\n"
     ]
    },
    {
     "data": {
      "text/plain": [
       "(None, None)"
      ]
     },
     "execution_count": 4,
     "metadata": {},
     "output_type": "execute_result"
    }
   ],
   "source": [
    "print(unescape(storedString)), print(len(unescape(storedString)))"
   ]
  },
  {
   "cell_type": "code",
   "execution_count": 5,
   "metadata": {
    "collapsed": true
   },
   "outputs": [],
   "source": [
    "storedString2 = \"&#x9;&#xA;&#x9;&#xA;&#x9;&#xA;\"\n",
    "start2 = 321\n",
    "end2 = -5"
   ]
  },
  {
   "cell_type": "code",
   "execution_count": 6,
   "metadata": {},
   "outputs": [
    {
     "data": {
      "text/plain": [
       "'\\t\\n\\t\\n\\t\\n'"
      ]
     },
     "execution_count": 6,
     "metadata": {},
     "output_type": "execute_result"
    }
   ],
   "source": [
    "unescape(storedString2)"
   ]
  },
  {
   "cell_type": "code",
   "execution_count": 113,
   "metadata": {
    "scrolled": true
   },
   "outputs": [
    {
     "name": "stdout",
     "output_type": "stream",
     "text": [
      "Character diff: 7\n"
     ]
    }
   ],
   "source": [
    "v1 = patch(storedString, storedString2, start2, end2)"
   ]
  },
  {
   "cell_type": "code",
   "execution_count": 95,
   "metadata": {},
   "outputs": [
    {
     "name": "stdout",
     "output_type": "stream",
     "text": [
      "package objectstructures;\n",
      "\n",
      "public class Partner {\n",
      "\t\n",
      "\tprivate String name;\n",
      "\tprivate String partnerName;\n",
      "\t\n",
      "\tpublic Partner(String name, String partnerName) {\n",
      "\t\tthis.name = name;\n",
      "\t\tthis.partnerName = partnerName;\n",
      "\t}\n",
      "\t\n",
      "\tpublic String getName() {\n",
      "\t\treturn name;\n",
      "\t}\n",
      "\t\n",
      "\tpublic String getPartnerName() {\n",
      "\t\treturn partnerName;\n",
      "\t}\n",
      "\t\n",
      "\t\n",
      "\t\n",
      "\n",
      "\n",
      "}\n",
      "\n",
      "331\n"
     ]
    },
    {
     "data": {
      "text/plain": [
       "(None, None)"
      ]
     },
     "execution_count": 95,
     "metadata": {},
     "output_type": "execute_result"
    }
   ],
   "source": [
    "print(v1), print(len(v1))"
   ]
  },
  {
   "cell_type": "code",
   "execution_count": 7,
   "metadata": {
    "collapsed": true
   },
   "outputs": [],
   "source": [
    "storedString3 = \"Partner partnerName;&#xA;&#x9;&#xA;&#x9;public Partner(String name, Partner\"\n",
    "start3 = 83\n",
    "end3 = -192"
   ]
  },
  {
   "cell_type": "code",
   "execution_count": 8,
   "metadata": {},
   "outputs": [
    {
     "data": {
      "text/plain": [
       "'Partner partnerName;\\n\\t\\n\\tpublic Partner(String name, Partner'"
      ]
     },
     "execution_count": 8,
     "metadata": {},
     "output_type": "execute_result"
    }
   ],
   "source": [
    "unescape(storedString3)"
   ]
  },
  {
   "cell_type": "code",
   "execution_count": 115,
   "metadata": {},
   "outputs": [
    {
     "name": "stdout",
     "output_type": "stream",
     "text": [
      "Character diff: 2\n"
     ]
    }
   ],
   "source": [
    "v2 = patch(v1, storedString3, start3, end3)"
   ]
  },
  {
   "cell_type": "code",
   "execution_count": 116,
   "metadata": {
    "scrolled": true
   },
   "outputs": [
    {
     "name": "stdout",
     "output_type": "stream",
     "text": [
      "package objectstructures;\n",
      "\n",
      "public class Partner {\n",
      "\t\n",
      "\tprivate String name;\n",
      "\tprivate Partner partnerName;\n",
      "\t\n",
      "\tpublic Partner(String name, Partner partnerName) {\n",
      "\t\tthis.name = name;\n",
      "\t\tthis.partnerName = partnerName;\n",
      "\t}\n",
      "\t\n",
      "\tpublic String getName() {\n",
      "\t\treturn name;\n",
      "\t}\n",
      "\t\n",
      "\tpublic String getPartnerName() {\n",
      "\t\treturn partnerName;\n",
      "\t}\n",
      "\t\n",
      "\t\n",
      "\t\n",
      "\n",
      "\n",
      "}\n",
      "\n",
      "333\n"
     ]
    },
    {
     "data": {
      "text/plain": [
       "(None, None)"
      ]
     },
     "execution_count": 116,
     "metadata": {},
     "output_type": "execute_result"
    }
   ],
   "source": [
    "print(v2), print(len(v2))"
   ]
  },
  {
   "cell_type": "code",
   "execution_count": 117,
   "metadata": {
    "collapsed": true
   },
   "outputs": [],
   "source": [
    "storedString4 = \"Partner\"\n",
    "start4 = 272\n",
    "end4 = -56"
   ]
  },
  {
   "cell_type": "code",
   "execution_count": 118,
   "metadata": {},
   "outputs": [
    {
     "name": "stdout",
     "output_type": "stream",
     "text": [
      "Character diff: 1\n"
     ]
    }
   ],
   "source": [
    "v3 = patch(v2, storedString4, start4, end4)"
   ]
  },
  {
   "cell_type": "code",
   "execution_count": 119,
   "metadata": {},
   "outputs": [
    {
     "name": "stdout",
     "output_type": "stream",
     "text": [
      "package objectstructures;\n",
      "\n",
      "public class Partner {\n",
      "\t\n",
      "\tprivate String name;\n",
      "\tprivate Partner partnerName;\n",
      "\t\n",
      "\tpublic Partner(String name, Partner partnerName) {\n",
      "\t\tthis.name = name;\n",
      "\t\tthis.partnerName = partnerName;\n",
      "\t}\n",
      "\t\n",
      "\tpublic String getName() {\n",
      "\t\treturn name;\n",
      "\t}\n",
      "\t\n",
      "\tpublic Partner getPartnerName() {\n",
      "\t\treturn partnerName;\n",
      "\t}\n",
      "\t\n",
      "\t\n",
      "\t\n",
      "\n",
      "\n",
      "}\n",
      "\n",
      "334\n"
     ]
    },
    {
     "data": {
      "text/plain": [
       "(None, None)"
      ]
     },
     "execution_count": 119,
     "metadata": {},
     "output_type": "execute_result"
    }
   ],
   "source": [
    "print(v3), print(len(v3))"
   ]
  }
 ],
 "metadata": {
  "kernelspec": {
   "display_name": "Python 3",
   "language": "python",
   "name": "python3"
  },
  "language_info": {
   "codemirror_mode": {
    "name": "ipython",
    "version": 3
   },
   "file_extension": ".py",
   "mimetype": "text/x-python",
   "name": "python",
   "nbconvert_exporter": "python",
   "pygments_lexer": "ipython3",
   "version": "3.6.2"
  }
 },
 "nbformat": 4,
 "nbformat_minor": 2
}
