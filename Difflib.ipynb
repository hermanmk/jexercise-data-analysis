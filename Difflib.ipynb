{
 "cells": [
  {
   "cell_type": "code",
   "execution_count": 94,
   "metadata": {
    "collapsed": true
   },
   "outputs": [],
   "source": [
    "from difflib import Differ\n",
    "from html import unescape"
   ]
  },
  {
   "cell_type": "code",
   "execution_count": 127,
   "metadata": {
    "collapsed": true
   },
   "outputs": [],
   "source": [
    "storedString=\"package objectstructures;&#xA;&#xA;public class Partner {&#xA;&#x9;&#xA;&#x9;private String name;&#xA;&#x9;private String partnerName;&#xA;&#x9;&#xA;&#x9;public Partner(String name, String partnerName) {&#xA;&#x9;&#x9;this.name = name;&#xA;&#x9;&#x9;this.partnerName = partnerName;&#xA;&#x9;}&#xA;&#x9;&#xA;&#x9;public String getName() {&#xA;&#x9;&#x9;return name;&#xA;&#x9;}&#xA;&#x9;&#xA;&#x9;public String getPartnerName() {&#xA;&#x9;&#x9;return partnerName;&#xA;&#x9;}&#xA;&#xA;}&#xA;\""
   ]
  },
  {
   "cell_type": "code",
   "execution_count": 3,
   "metadata": {
    "collapsed": true
   },
   "outputs": [],
   "source": [
    "def patch(original, edit, start, end):\n",
    "    original = unescape(original)\n",
    "    edit = unescape(edit)\n",
    "    patched = original[:start] + edit + original[end + 1:]\n",
    "    return patched"
   ]
  },
  {
   "cell_type": "code",
   "execution_count": 128,
   "metadata": {},
   "outputs": [
    {
     "name": "stdout",
     "output_type": "stream",
     "text": [
      "package objectstructures;\n",
      "\n",
      "public class Partner {\n",
      "\t\n",
      "\tprivate String name;\n",
      "\tprivate String partnerName;\n",
      "\t\n",
      "\tpublic Partner(String name, String partnerName) {\n",
      "\t\tthis.name = name;\n",
      "\t\tthis.partnerName = partnerName;\n",
      "\t}\n",
      "\t\n",
      "\tpublic String getName() {\n",
      "\t\treturn name;\n",
      "\t}\n",
      "\t\n",
      "\tpublic String getPartnerName() {\n",
      "\t\treturn partnerName;\n",
      "\t}\n",
      "\n",
      "}\n",
      "\n",
      "324\n"
     ]
    },
    {
     "data": {
      "text/plain": [
       "(None, None)"
      ]
     },
     "execution_count": 128,
     "metadata": {},
     "output_type": "execute_result"
    }
   ],
   "source": [
    "print(unescape(storedString)), print(len(unescape(storedString)))"
   ]
  },
  {
   "cell_type": "code",
   "execution_count": 129,
   "metadata": {
    "collapsed": true
   },
   "outputs": [],
   "source": [
    "storedString2 = \"&#x9;&#xA;&#x9;&#xA;&#x9;&#xA;\"\n",
    "start2 = 321\n",
    "end2 = -5"
   ]
  },
  {
   "cell_type": "code",
   "execution_count": 130,
   "metadata": {},
   "outputs": [
    {
     "data": {
      "text/plain": [
       "'\\t\\n\\t\\n\\t\\n'"
      ]
     },
     "execution_count": 130,
     "metadata": {},
     "output_type": "execute_result"
    }
   ],
   "source": [
    "unescape(storedString2)"
   ]
  },
  {
   "cell_type": "code",
   "execution_count": 131,
   "metadata": {
    "scrolled": true
   },
   "outputs": [],
   "source": [
    "v1 = patch(storedString, storedString2, start2, end2)"
   ]
  },
  {
   "cell_type": "code",
   "execution_count": 132,
   "metadata": {},
   "outputs": [
    {
     "name": "stdout",
     "output_type": "stream",
     "text": [
      "package objectstructures;\n",
      "\n",
      "public class Partner {\n",
      "\t\n",
      "\tprivate String name;\n",
      "\tprivate String partnerName;\n",
      "\t\n",
      "\tpublic Partner(String name, String partnerName) {\n",
      "\t\tthis.name = name;\n",
      "\t\tthis.partnerName = partnerName;\n",
      "\t}\n",
      "\t\n",
      "\tpublic String getName() {\n",
      "\t\treturn name;\n",
      "\t}\n",
      "\t\n",
      "\tpublic String getPartnerName() {\n",
      "\t\treturn partnerName;\n",
      "\t}\n",
      "\t\n",
      "\t\n",
      "\t\n",
      "\n",
      "\n",
      "}\n",
      "\n",
      "331\n"
     ]
    },
    {
     "data": {
      "text/plain": [
       "(None, None)"
      ]
     },
     "execution_count": 132,
     "metadata": {},
     "output_type": "execute_result"
    }
   ],
   "source": [
    "print(v1), print(len(v1))"
   ]
  },
  {
   "cell_type": "code",
   "execution_count": 9,
   "metadata": {
    "collapsed": true
   },
   "outputs": [],
   "source": [
    "storedString3 = \"Partner partnerName;&#xA;&#x9;&#xA;&#x9;public Partner(String name, Partner\"\n",
    "start3 = 83\n",
    "end3 = -192"
   ]
  },
  {
   "cell_type": "code",
   "execution_count": 10,
   "metadata": {},
   "outputs": [
    {
     "data": {
      "text/plain": [
       "'Partner partnerName;\\n\\t\\n\\tpublic Partner(String name, Partner'"
      ]
     },
     "execution_count": 10,
     "metadata": {},
     "output_type": "execute_result"
    }
   ],
   "source": [
    "unescape(storedString3)"
   ]
  },
  {
   "cell_type": "code",
   "execution_count": 11,
   "metadata": {},
   "outputs": [],
   "source": [
    "v2 = patch(v1, storedString3, start3, end3)"
   ]
  },
  {
   "cell_type": "code",
   "execution_count": 12,
   "metadata": {
    "scrolled": false
   },
   "outputs": [
    {
     "name": "stdout",
     "output_type": "stream",
     "text": [
      "package objectstructures;\n",
      "\n",
      "public class Partner {\n",
      "\t\n",
      "\tprivate String name;\n",
      "\tprivate Partner partnerName;\n",
      "\t\n",
      "\tpublic Partner(String name, Partner partnerName) {\n",
      "\t\tthis.name = name;\n",
      "\t\tthis.partnerName = partnerName;\n",
      "\t}\n",
      "\t\n",
      "\tpublic String getName() {\n",
      "\t\treturn name;\n",
      "\t}\n",
      "\t\n",
      "\tpublic String getPartnerName() {\n",
      "\t\treturn partnerName;\n",
      "\t}\n",
      "\t\n",
      "\t\n",
      "\t\n",
      "\n",
      "\n",
      "}\n",
      "\n",
      "333\n"
     ]
    },
    {
     "data": {
      "text/plain": [
       "(None, None)"
      ]
     },
     "execution_count": 12,
     "metadata": {},
     "output_type": "execute_result"
    }
   ],
   "source": [
    "print(v2), print(len(v2))"
   ]
  },
  {
   "cell_type": "code",
   "execution_count": 13,
   "metadata": {
    "collapsed": true
   },
   "outputs": [],
   "source": [
    "storedString4 = \"Partner\"\n",
    "start4 = 272\n",
    "end4 = -56"
   ]
  },
  {
   "cell_type": "code",
   "execution_count": 14,
   "metadata": {},
   "outputs": [],
   "source": [
    "v3 = patch(v2, storedString4, start4, end4)"
   ]
  },
  {
   "cell_type": "code",
   "execution_count": 15,
   "metadata": {
    "scrolled": false
   },
   "outputs": [
    {
     "name": "stdout",
     "output_type": "stream",
     "text": [
      "package objectstructures;\n",
      "\n",
      "public class Partner {\n",
      "\t\n",
      "\tprivate String name;\n",
      "\tprivate Partner partnerName;\n",
      "\t\n",
      "\tpublic Partner(String name, Partner partnerName) {\n",
      "\t\tthis.name = name;\n",
      "\t\tthis.partnerName = partnerName;\n",
      "\t}\n",
      "\t\n",
      "\tpublic String getName() {\n",
      "\t\treturn name;\n",
      "\t}\n",
      "\t\n",
      "\tpublic Partner getPartnerName() {\n",
      "\t\treturn partnerName;\n",
      "\t}\n",
      "\t\n",
      "\t\n",
      "\t\n",
      "\n",
      "\n",
      "}\n",
      "\n",
      "334\n"
     ]
    },
    {
     "data": {
      "text/plain": [
       "(None, None)"
      ]
     },
     "execution_count": 15,
     "metadata": {},
     "output_type": "execute_result"
    }
   ],
   "source": [
    "print(v3), print(len(v3))"
   ]
  },
  {
   "cell_type": "code",
   "execution_count": 35,
   "metadata": {},
   "outputs": [
    {
     "name": "stdout",
     "output_type": "stream",
     "text": [
      "package objectstructures;\n",
      "\n",
      "public class Partner {\n",
      "\t\n",
      "\tprivate String name;\n",
      "\tprivate Partner partnerName;\n",
      "\t\n",
      "\tpublic Partner(String name, Partner partnerName) {\n",
      "\t\tthis.name = name;\n",
      "\t\tthis.partnerName = partnerName;\n",
      "\t}\n",
      "\t\n",
      "\tpublic String getName() {\n",
      "\t\treturn name;\n",
      "\t}\n",
      "\t\n",
      "\tpublic String getPartnerName() {\n",
      "\t\treturn partnerName;\n",
      "\t}\n",
      "\t\n",
      "\t\n",
      "\t\n",
      "\n",
      "\n",
      "}\n",
      "\n"
     ]
    }
   ],
   "source": [
    "print(v2)"
   ]
  },
  {
   "cell_type": "code",
   "execution_count": 36,
   "metadata": {},
   "outputs": [
    {
     "name": "stdout",
     "output_type": "stream",
     "text": [
      "package objectstructures;\n",
      "\n",
      "public class Partner {\n",
      "\t\n",
      "\tprivate String name;\n",
      "\tprivate Partner partnerName;\n",
      "\t\n",
      "\tpublic Partner(String name, Partner partnerName) {\n",
      "\t\tthis.name = name;\n",
      "\t\tthis.partnerName = partnerName;\n",
      "\t}\n",
      "\t\n",
      "\tpublic String getName() {\n",
      "\t\treturn name;\n",
      "\t}\n",
      "\t\n",
      "\tpublic Partner getPartnerName() {\n",
      "\t\treturn partnerName;\n",
      "\t}\n",
      "\t\n",
      "\t\n",
      "\t\n",
      "\n",
      "\n",
      "}\n",
      "\n"
     ]
    }
   ],
   "source": [
    "print(v3)"
   ]
  },
  {
   "cell_type": "code",
   "execution_count": 58,
   "metadata": {},
   "outputs": [],
   "source": [
    "v4 = 'package objectstructures;\\n\\npublic class Partner {\\n\\t\\n\\tprivate String name;\\n\\tprivate Partner partnerName;\\n\\t\\n\\tpublic Partner(String name, Partner partnerName) {\\n\\t\\t\\n\\t}\\n\\t\\n\\tpublic String getName() {\\n\\t\\treturn name;\\n\\t}\\n\\t\\n\\tpublic Partner getPartnerName() {\\n\\t\\treturn partnerName;\\n\\t}\\n\\t\\n\\t\\n\\t\\n\\n\\n}\\n'"
   ]
  },
  {
   "cell_type": "code",
   "execution_count": 59,
   "metadata": {},
   "outputs": [
    {
     "data": {
      "text/plain": [
       "51"
      ]
     },
     "execution_count": 59,
     "metadata": {},
     "output_type": "execute_result"
    }
   ],
   "source": [
    "len('this.name = name;\\n\\t\\tthis.partnerName = partnerName;')"
   ]
  },
  {
   "cell_type": "code",
   "execution_count": 50,
   "metadata": {},
   "outputs": [
    {
     "name": "stdout",
     "output_type": "stream",
     "text": [
      "package objectstructures;\n",
      "\n",
      "public class Partner {\n",
      "\t\n",
      "\tprivate String name;\n",
      "\tprivate Partner partnerName;\n",
      "\t\n",
      "\tpublic Partner(String name, Partner partnerName) {\n",
      "\t\t\n",
      "\t}\n",
      "\t\n",
      "\tpublic String getName() {\n",
      "\t\treturn name;\n",
      "\t}\n",
      "\t\n",
      "\tpublic Partner getPartnerName() {\n",
      "\t\treturn partnerName;\n",
      "\t}\n",
      "\t\n",
      "\t\n",
      "\t\n",
      "\n",
      "\n",
      "}\n",
      "\n"
     ]
    }
   ],
   "source": [
    "print(v4)"
   ]
  },
  {
   "cell_type": "code",
   "execution_count": 56,
   "metadata": {},
   "outputs": [
    {
     "name": "stdout",
     "output_type": "stream",
     "text": [
      "\n",
      "\t}\n",
      "\t\n",
      "\tpublic String getName() {\n",
      "\t\treturn name;\n",
      "\t}\n",
      "\t\n",
      "\tpublic Partner getPartnerName() {\n",
      "\t\treturn partnerName;\n",
      "\t}\n",
      "\t\n",
      "\t\n",
      "\t\n",
      "\n",
      "\n",
      "}\n",
      "\n"
     ]
    }
   ],
   "source": [
    "print(v3[211:])"
   ]
  },
  {
   "cell_type": "code",
   "execution_count": 118,
   "metadata": {},
   "outputs": [],
   "source": [
    "differ = Differ()"
   ]
  },
  {
   "cell_type": "code",
   "execution_count": 134,
   "metadata": {
    "collapsed": true
   },
   "outputs": [],
   "source": [
    "def get_diff_length(differ, old, new):\n",
    "    diff = differ.compare(old, new)\n",
    "    length = 0\n",
    "    for i in diff:\n",
    "        print(i)\n",
    "        if i.startswith('+') or i.startswith('-'):\n",
    "            length += 1\n",
    "    return length"
   ]
  },
  {
   "cell_type": "code",
   "execution_count": 136,
   "metadata": {},
   "outputs": [
    {
     "name": "stdout",
     "output_type": "stream",
     "text": [
      "  p\n",
      "  a\n",
      "  c\n",
      "  k\n",
      "  a\n",
      "  g\n",
      "  e\n",
      "   \n",
      "  o\n",
      "  b\n",
      "  j\n",
      "  e\n",
      "  c\n",
      "  t\n",
      "  s\n",
      "  t\n",
      "  r\n",
      "  u\n",
      "  c\n",
      "  t\n",
      "  u\n",
      "  r\n",
      "  e\n",
      "  s\n",
      "  ;\n",
      "  \n",
      "\n",
      "  \n",
      "\n",
      "  p\n",
      "  u\n",
      "  b\n",
      "  l\n",
      "  i\n",
      "  c\n",
      "   \n",
      "  c\n",
      "  l\n",
      "  a\n",
      "  s\n",
      "  s\n",
      "   \n",
      "  P\n",
      "  a\n",
      "  r\n",
      "  t\n",
      "  n\n",
      "  e\n",
      "  r\n",
      "   \n",
      "  {\n",
      "  \n",
      "\n",
      "  \t\n",
      "  \n",
      "\n",
      "  \t\n",
      "  p\n",
      "  r\n",
      "  i\n",
      "  v\n",
      "  a\n",
      "  t\n",
      "  e\n",
      "   \n",
      "  S\n",
      "  t\n",
      "  r\n",
      "  i\n",
      "  n\n",
      "  g\n",
      "   \n",
      "  n\n",
      "  a\n",
      "  m\n",
      "  e\n",
      "  ;\n",
      "  \n",
      "\n",
      "  \t\n",
      "  p\n",
      "  r\n",
      "  i\n",
      "  v\n",
      "  a\n",
      "  t\n",
      "  e\n",
      "   \n",
      "  S\n",
      "  t\n",
      "  r\n",
      "  i\n",
      "  n\n",
      "  g\n",
      "   \n",
      "  p\n",
      "  a\n",
      "  r\n",
      "  t\n",
      "  n\n",
      "  e\n",
      "  r\n",
      "  N\n",
      "  a\n",
      "  m\n",
      "  e\n",
      "  ;\n",
      "  \n",
      "\n",
      "  \t\n",
      "  \n",
      "\n",
      "  \t\n",
      "  p\n",
      "  u\n",
      "  b\n",
      "  l\n",
      "  i\n",
      "  c\n",
      "   \n",
      "  P\n",
      "  a\n",
      "  r\n",
      "  t\n",
      "  n\n",
      "  e\n",
      "  r\n",
      "  (\n",
      "  S\n",
      "  t\n",
      "  r\n",
      "  i\n",
      "  n\n",
      "  g\n",
      "   \n",
      "  n\n",
      "  a\n",
      "  m\n",
      "  e\n",
      "  ,\n",
      "   \n",
      "  S\n",
      "  t\n",
      "  r\n",
      "  i\n",
      "  n\n",
      "  g\n",
      "   \n",
      "  p\n",
      "  a\n",
      "  r\n",
      "  t\n",
      "  n\n",
      "  e\n",
      "  r\n",
      "  N\n",
      "  a\n",
      "  m\n",
      "  e\n",
      "  )\n",
      "   \n",
      "  {\n",
      "  \n",
      "\n",
      "  \t\n",
      "  \t\n",
      "  t\n",
      "  h\n",
      "  i\n",
      "  s\n",
      "  .\n",
      "  n\n",
      "  a\n",
      "  m\n",
      "  e\n",
      "   \n",
      "  =\n",
      "   \n",
      "  n\n",
      "  a\n",
      "  m\n",
      "  e\n",
      "  ;\n",
      "  \n",
      "\n",
      "  \t\n",
      "  \t\n",
      "  t\n",
      "  h\n",
      "  i\n",
      "  s\n",
      "  .\n",
      "  p\n",
      "  a\n",
      "  r\n",
      "  t\n",
      "  n\n",
      "  e\n",
      "  r\n",
      "  N\n",
      "  a\n",
      "  m\n",
      "  e\n",
      "   \n",
      "  =\n",
      "   \n",
      "  p\n",
      "  a\n",
      "  r\n",
      "  t\n",
      "  n\n",
      "  e\n",
      "  r\n",
      "  N\n",
      "  a\n",
      "  m\n",
      "  e\n",
      "  ;\n",
      "  \n",
      "\n",
      "  \t\n",
      "  }\n",
      "  \n",
      "\n",
      "  \t\n",
      "  \n",
      "\n",
      "  \t\n",
      "  p\n",
      "  u\n",
      "  b\n",
      "  l\n",
      "  i\n",
      "  c\n",
      "   \n",
      "  S\n",
      "  t\n",
      "  r\n",
      "  i\n",
      "  n\n",
      "  g\n",
      "   \n",
      "  g\n",
      "  e\n",
      "  t\n",
      "  N\n",
      "  a\n",
      "  m\n",
      "  e\n",
      "  (\n",
      "  )\n",
      "   \n",
      "  {\n",
      "  \n",
      "\n",
      "  \t\n",
      "  \t\n",
      "  r\n",
      "  e\n",
      "  t\n",
      "  u\n",
      "  r\n",
      "  n\n",
      "   \n",
      "  n\n",
      "  a\n",
      "  m\n",
      "  e\n",
      "  ;\n",
      "  \n",
      "\n",
      "  \t\n",
      "  }\n",
      "  \n",
      "\n",
      "  \t\n",
      "  \n",
      "\n",
      "  \t\n",
      "  p\n",
      "  u\n",
      "  b\n",
      "  l\n",
      "  i\n",
      "  c\n",
      "   \n",
      "  S\n",
      "  t\n",
      "  r\n",
      "  i\n",
      "  n\n",
      "  g\n",
      "   \n",
      "  g\n",
      "  e\n",
      "  t\n",
      "  P\n",
      "  a\n",
      "  r\n",
      "  t\n",
      "  n\n",
      "  e\n",
      "  r\n",
      "  N\n",
      "  a\n",
      "  m\n",
      "  e\n",
      "  (\n",
      "  )\n",
      "   \n",
      "  {\n",
      "  \n",
      "\n",
      "  \t\n",
      "  \t\n",
      "  r\n",
      "  e\n",
      "  t\n",
      "  u\n",
      "  r\n",
      "  n\n",
      "   \n",
      "  p\n",
      "  a\n",
      "  r\n",
      "  t\n",
      "  n\n",
      "  e\n",
      "  r\n",
      "  N\n",
      "  a\n",
      "  m\n",
      "  e\n",
      "  ;\n",
      "  \n",
      "\n",
      "  \t\n",
      "  }\n",
      "  \n",
      "\n",
      "+ \t\n",
      "+ \n",
      "\n",
      "+ \t\n",
      "+ \n",
      "\n",
      "+ \t\n",
      "+ \n",
      "\n",
      "+ \n",
      "\n",
      "  \n",
      "\n",
      "  }\n",
      "  \n",
      "\n"
     ]
    },
    {
     "data": {
      "text/plain": [
       "7"
      ]
     },
     "execution_count": 136,
     "metadata": {},
     "output_type": "execute_result"
    }
   ],
   "source": [
    "get_diff_length(differ, unescape(storedString), v1)"
   ]
  }
 ],
 "metadata": {
  "kernelspec": {
   "display_name": "Python 3",
   "language": "python",
   "name": "python3"
  },
  "language_info": {
   "codemirror_mode": {
    "name": "ipython",
    "version": 3
   },
   "file_extension": ".py",
   "mimetype": "text/x-python",
   "name": "python",
   "nbconvert_exporter": "python",
   "pygments_lexer": "ipython3",
   "version": "3.6.2"
  }
 },
 "nbformat": 4,
 "nbformat_minor": 2
}
