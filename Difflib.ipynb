{
 "cells": [
  {
   "cell_type": "code",
   "execution_count": 31,
   "metadata": {},
   "outputs": [],
   "source": [
    "from difflib import Differ, SequenceMatcher\n",
    "from html import unescape"
   ]
  },
  {
   "cell_type": "code",
   "execution_count": 2,
   "metadata": {},
   "outputs": [],
   "source": [
    "storedString=\"package objectstructures;&#xA;&#xA;public class Partner {&#xA;&#x9;&#xA;&#x9;private String name;&#xA;&#x9;private String partnerName;&#xA;&#x9;&#xA;&#x9;public Partner(String name, String partnerName) {&#xA;&#x9;&#x9;this.name = name;&#xA;&#x9;&#x9;this.partnerName = partnerName;&#xA;&#x9;}&#xA;&#x9;&#xA;&#x9;public String getName() {&#xA;&#x9;&#x9;return name;&#xA;&#x9;}&#xA;&#x9;&#xA;&#x9;public String getPartnerName() {&#xA;&#x9;&#x9;return partnerName;&#xA;&#x9;}&#xA;&#xA;}&#xA;\""
   ]
  },
  {
   "cell_type": "code",
   "execution_count": 3,
   "metadata": {},
   "outputs": [],
   "source": [
    "def patch(original, edit, start, end):\n",
    "    original = unescape(original)\n",
    "    edit = unescape(edit)\n",
    "    patched = original[:start] + edit + original[end + 1:]\n",
    "    return patched"
   ]
  },
  {
   "cell_type": "code",
   "execution_count": 4,
   "metadata": {},
   "outputs": [
    {
     "name": "stdout",
     "output_type": "stream",
     "text": [
      "package objectstructures;\n",
      "\n",
      "public class Partner {\n",
      "\t\n",
      "\tprivate String name;\n",
      "\tprivate String partnerName;\n",
      "\t\n",
      "\tpublic Partner(String name, String partnerName) {\n",
      "\t\tthis.name = name;\n",
      "\t\tthis.partnerName = partnerName;\n",
      "\t}\n",
      "\t\n",
      "\tpublic String getName() {\n",
      "\t\treturn name;\n",
      "\t}\n",
      "\t\n",
      "\tpublic String getPartnerName() {\n",
      "\t\treturn partnerName;\n",
      "\t}\n",
      "\n",
      "}\n",
      "\n",
      "324\n"
     ]
    },
    {
     "data": {
      "text/plain": [
       "(None, None)"
      ]
     },
     "execution_count": 4,
     "output_type": "execute_result",
     "metadata": {}
    }
   ],
   "source": [
    "print(unescape(storedString)), print(len(unescape(storedString)))"
   ]
  },
  {
   "cell_type": "code",
   "execution_count": 5,
   "metadata": {},
   "outputs": [],
   "source": [
    "storedString2 = \"&#x9;&#xA;&#x9;&#xA;&#x9;&#xA;\"\n",
    "start2 = 321\n",
    "end2 = -5"
   ]
  },
  {
   "cell_type": "code",
   "execution_count": 6,
   "metadata": {},
   "outputs": [
    {
     "data": {
      "text/plain": [
       "'\\t\\n\\t\\n\\t\\n'"
      ]
     },
     "execution_count": 6,
     "output_type": "execute_result",
     "metadata": {}
    }
   ],
   "source": [
    "unescape(storedString2)"
   ]
  },
  {
   "cell_type": "code",
   "execution_count": 7,
   "metadata": {},
   "outputs": [],
   "source": [
    "v1 = patch(storedString, storedString2, start2, end2)"
   ]
  },
  {
   "cell_type": "code",
   "execution_count": 8,
   "metadata": {},
   "outputs": [
    {
     "name": "stdout",
     "output_type": "stream",
     "text": [
      "package objectstructures;\n",
      "\n",
      "public class Partner {\n",
      "\t\n",
      "\tprivate String name;\n",
      "\tprivate String partnerName;\n",
      "\t\n",
      "\tpublic Partner(String name, String partnerName) {\n",
      "\t\tthis.name = name;\n",
      "\t\tthis.partnerName = partnerName;\n",
      "\t}\n",
      "\t\n",
      "\tpublic String getName() {\n",
      "\t\treturn name;\n",
      "\t}\n",
      "\t\n",
      "\tpublic String getPartnerName() {\n",
      "\t\treturn partnerName;\n",
      "\t}\n",
      "\t\n",
      "\t\n",
      "\t\n",
      "\n",
      "\n",
      "}\n",
      "\n",
      "331\n"
     ]
    },
    {
     "data": {
      "text/plain": [
       "(None, None)"
      ]
     },
     "execution_count": 8,
     "output_type": "execute_result",
     "metadata": {}
    }
   ],
   "source": [
    "print(v1), print(len(v1))"
   ]
  },
  {
   "cell_type": "code",
   "execution_count": 9,
   "metadata": {},
   "outputs": [],
   "source": [
    "storedString3 = \"Partner partnerName;&#xA;&#x9;&#xA;&#x9;public Partner(String name, Partner\"\n",
    "start3 = 83\n",
    "end3 = -192"
   ]
  },
  {
   "cell_type": "code",
   "execution_count": 10,
   "metadata": {},
   "outputs": [
    {
     "data": {
      "text/plain": [
       "'Partner partnerName;\\n\\t\\n\\tpublic Partner(String name, Partner'"
      ]
     },
     "execution_count": 10,
     "output_type": "execute_result",
     "metadata": {}
    }
   ],
   "source": [
    "unescape(storedString3)"
   ]
  },
  {
   "cell_type": "code",
   "execution_count": 63,
   "metadata": {},
   "outputs": [],
   "source": [
    "v2 = patch(v1, storedString3, start3, end3)"
   ]
  },
  {
   "cell_type": "code",
   "execution_count": 12,
   "metadata": {},
   "outputs": [
    {
     "name": "stdout",
     "output_type": "stream",
     "text": [
      "package objectstructures;\n",
      "\n",
      "public class Partner {\n",
      "\t\n",
      "\tprivate String name;\n",
      "\tprivate Partner partnerName;\n",
      "\t\n",
      "\tpublic Partner(String name, Partner partnerName) {\n",
      "\t\tthis.name = name;\n",
      "\t\tthis.partnerName = partnerName;\n",
      "\t}\n",
      "\t\n",
      "\tpublic String getName() {\n",
      "\t\treturn name;\n",
      "\t}\n",
      "\t\n",
      "\tpublic String getPartnerName() {\n",
      "\t\treturn partnerName;\n",
      "\t}\n",
      "\t\n",
      "\t\n",
      "\t\n",
      "\n",
      "\n",
      "}\n",
      "\n",
      "333\n"
     ]
    },
    {
     "data": {
      "text/plain": [
       "(None, None)"
      ]
     },
     "execution_count": 12,
     "output_type": "execute_result",
     "metadata": {}
    }
   ],
   "source": [
    "print(v2), print(len(v2))"
   ]
  },
  {
   "cell_type": "code",
   "execution_count": 13,
   "metadata": {},
   "outputs": [],
   "source": [
    "storedString4 = \"Partner\"\n",
    "start4 = 272\n",
    "end4 = -56"
   ]
  },
  {
   "cell_type": "code",
   "execution_count": 14,
   "metadata": {},
   "outputs": [],
   "source": [
    "v3 = patch(v2, storedString4, start4, end4)"
   ]
  },
  {
   "cell_type": "code",
   "execution_count": 15,
   "metadata": {},
   "outputs": [
    {
     "name": "stdout",
     "output_type": "stream",
     "text": [
      "package objectstructures;\n",
      "\n",
      "public class Partner {\n",
      "\t\n",
      "\tprivate String name;\n",
      "\tprivate Partner partnerName;\n",
      "\t\n",
      "\tpublic Partner(String name, Partner partnerName) {\n",
      "\t\tthis.name = name;\n",
      "\t\tthis.partnerName = partnerName;\n",
      "\t}\n",
      "\t\n",
      "\tpublic String getName() {\n",
      "\t\treturn name;\n",
      "\t}\n",
      "\t\n",
      "\tpublic Partner getPartnerName() {\n",
      "\t\treturn partnerName;\n",
      "\t}\n",
      "\t\n",
      "\t\n",
      "\t\n",
      "\n",
      "\n",
      "}\n",
      "\n",
      "334\n"
     ]
    },
    {
     "data": {
      "text/plain": [
       "(None, None)"
      ]
     },
     "execution_count": 15,
     "output_type": "execute_result",
     "metadata": {}
    }
   ],
   "source": [
    "print(v3), print(len(v3))"
   ]
  },
  {
   "cell_type": "code",
   "execution_count": 16,
   "metadata": {},
   "outputs": [
    {
     "name": "stdout",
     "output_type": "stream",
     "text": [
      "package objectstructures;\n",
      "\n",
      "public class Partner {\n",
      "\t\n",
      "\tprivate String name;\n",
      "\tprivate Partner partnerName;\n",
      "\t\n",
      "\tpublic Partner(String name, Partner partnerName) {\n",
      "\t\tthis.name = name;\n",
      "\t\tthis.partnerName = partnerName;\n",
      "\t}\n",
      "\t\n",
      "\tpublic String getName() {\n",
      "\t\treturn name;\n",
      "\t}\n",
      "\t\n",
      "\tpublic String getPartnerName() {\n",
      "\t\treturn partnerName;\n",
      "\t}\n",
      "\t\n",
      "\t\n",
      "\t\n",
      "\n",
      "\n",
      "}\n",
      "\n"
     ]
    }
   ],
   "source": [
    "print(v2)"
   ]
  },
  {
   "cell_type": "code",
   "execution_count": 17,
   "metadata": {},
   "outputs": [
    {
     "name": "stdout",
     "output_type": "stream",
     "text": [
      "package objectstructures;\n",
      "\n",
      "public class Partner {\n",
      "\t\n",
      "\tprivate String name;\n",
      "\tprivate Partner partnerName;\n",
      "\t\n",
      "\tpublic Partner(String name, Partner partnerName) {\n",
      "\t\tthis.name = name;\n",
      "\t\tthis.partnerName = partnerName;\n",
      "\t}\n",
      "\t\n",
      "\tpublic String getName() {\n",
      "\t\treturn name;\n",
      "\t}\n",
      "\t\n",
      "\tpublic Partner getPartnerName() {\n",
      "\t\treturn partnerName;\n",
      "\t}\n",
      "\t\n",
      "\t\n",
      "\t\n",
      "\n",
      "\n",
      "}\n",
      "\n"
     ]
    }
   ],
   "source": [
    "print(v3)"
   ]
  },
  {
   "cell_type": "code",
   "execution_count": 18,
   "metadata": {},
   "outputs": [],
   "source": [
    "v4 = 'package objectstructures;\\n\\npublic class Partner {\\n\\t\\n\\tprivate String name;\\n\\tprivate Partner partnerName;\\n\\t\\n\\tpublic Partner(String name, Partner partnerName) {\\n\\t\\t\\n\\t}\\n\\t\\n\\tpublic String getName() {\\n\\t\\treturn name;\\n\\t}\\n\\t\\n\\tpublic Partner getPartnerName() {\\n\\t\\treturn partnerName;\\n\\t}\\n\\t\\n\\t\\n\\t\\n\\n\\n}\\n'"
   ]
  },
  {
   "cell_type": "code",
   "execution_count": 19,
   "metadata": {},
   "outputs": [
    {
     "data": {
      "text/plain": [
       "51"
      ]
     },
     "execution_count": 19,
     "output_type": "execute_result",
     "metadata": {}
    }
   ],
   "source": [
    "len('this.name = name;\\n\\t\\tthis.partnerName = partnerName;')"
   ]
  },
  {
   "cell_type": "code",
   "execution_count": 20,
   "metadata": {},
   "outputs": [
    {
     "name": "stdout",
     "output_type": "stream",
     "text": [
      "package objectstructures;\n",
      "\n",
      "public class Partner {\n",
      "\t\n",
      "\tprivate String name;\n",
      "\tprivate Partner partnerName;\n",
      "\t\n",
      "\tpublic Partner(String name, Partner partnerName) {\n",
      "\t\t\n",
      "\t}\n",
      "\t\n",
      "\tpublic String getName() {\n",
      "\t\treturn name;\n",
      "\t}\n",
      "\t\n",
      "\tpublic Partner getPartnerName() {\n",
      "\t\treturn partnerName;\n",
      "\t}\n",
      "\t\n",
      "\t\n",
      "\t\n",
      "\n",
      "\n",
      "}\n",
      "\n"
     ]
    }
   ],
   "source": [
    "print(v4)"
   ]
  },
  {
   "cell_type": "code",
   "execution_count": 21,
   "metadata": {},
   "outputs": [
    {
     "name": "stdout",
     "output_type": "stream",
     "text": [
      "\n",
      "\t}\n",
      "\t\n",
      "\tpublic String getName() {\n",
      "\t\treturn name;\n",
      "\t}\n",
      "\t\n",
      "\tpublic Partner getPartnerName() {\n",
      "\t\treturn partnerName;\n",
      "\t}\n",
      "\t\n",
      "\t\n",
      "\t\n",
      "\n",
      "\n",
      "}\n",
      "\n"
     ]
    }
   ],
   "source": [
    "print(v3[211:])"
   ]
  },
  {
   "cell_type": "code",
   "execution_count": 24,
   "metadata": {},
   "outputs": [],
   "source": [
    "differ = Differ()"
   ]
  },
  {
   "cell_type": "code",
   "execution_count": 22,
   "metadata": {},
   "outputs": [],
   "source": [
    "def get_diff_length(differ, old, new):\n",
    "    diff = differ.compare(old, new)\n",
    "    length = 0\n",
    "    for i in diff:\n",
    "        print(i)\n",
    "        if i.startswith('+') or i.startswith('-'):\n",
    "            length += 1\n",
    "    return length"
   ]
  },
  {
   "cell_type": "code",
   "execution_count": 130,
   "metadata": {},
   "outputs": [],
   "source": [
    "test1 = 'private int a;\\npublic String s;\\n\\npublic static void main() {\\n\\treturn;\\n}'"
   ]
  },
  {
   "cell_type": "code",
   "execution_count": 131,
   "metadata": {},
   "outputs": [
    {
     "name": "stdout",
     "output_type": "stream",
     "text": [
      "private int a;\n",
      "public String s;\n",
      "\n",
      "public static void main() {\n",
      "\treturn;\n",
      "}\n"
     ]
    }
   ],
   "source": [
    "print(test1)"
   ]
  },
  {
   "cell_type": "code",
   "execution_count": 172,
   "metadata": {},
   "outputs": [],
   "source": [
    "test2 = 'private String a;\\npublic String sa;\\n\\npublic static void main() {\\n}\\n\\n\\n'"
   ]
  },
  {
   "cell_type": "code",
   "execution_count": 173,
   "metadata": {},
   "outputs": [
    {
     "name": "stdout",
     "output_type": "stream",
     "text": [
      "private String a;\n",
      "public String sa;\n",
      "\n",
      "public static void main() {\n",
      "}\n",
      "\n",
      "\n",
      "\n"
     ]
    }
   ],
   "source": [
    "print(test2)"
   ]
  },
  {
   "cell_type": "code",
   "execution_count": 177,
   "metadata": {},
   "outputs": [],
   "source": [
    "def get_diff_length_lines(old, new):\n",
    "    old, new = old.split('\\n'), new.split('\\n')\n",
    "    junk = lambda x: x in \" \\t\"\n",
    "    s = SequenceMatcher(None, old, new)\n",
    "    diff = 0\n",
    "    for i in s.get_opcodes():\n",
    "        tag, a1, a2, b1, b2 = i\n",
    "        if 'replace' in tag:\n",
    "            diff += max(len(s.a[a1:a2]), len(s.b[b1:b2]))\n",
    "        if 'delete' in tag:\n",
    "            diff += len(s.a[a1:a2])\n",
    "        if 'insert' in tag:\n",
    "            diff += len(s.b[b1:b2])\n",
    "    return diff"
   ]
  },
  {
   "cell_type": "code",
   "execution_count": 179,
   "metadata": {},
   "outputs": [
    {
     "data": {
      "text/plain": [
       "6"
      ]
     },
     "execution_count": 179,
     "output_type": "execute_result",
     "metadata": {}
    }
   ],
   "source": [
    "get_diff_length_lines(test1, test2)"
   ]
  },
  {
   "cell_type": "code",
   "execution_count": 99,
   "metadata": {},
   "outputs": [],
   "source": [
    "D = 0\n",
    "M = (s.ratio() * (len(s.a) + len(s.b)) / 2)\n",
    "if len(s.a) > len(s.b):\n",
    "    D = len(s.a) - M\n",
    "else:\n",
    "    D = len(s.b) - M"
   ]
  }
 ],
 "metadata": {
  "kernelspec": {
   "display_name": "Python 3",
   "language": "python",
   "name": "python3"
  },
  "language_info": {
   "codemirror_mode": {
    "name": "ipython",
    "version": 3.0
   },
   "file_extension": ".py",
   "mimetype": "text/x-python",
   "name": "python",
   "nbconvert_exporter": "python",
   "pygments_lexer": "ipython3",
   "version": "3.5.4"
  }
 },
 "nbformat": 4,
 "nbformat_minor": 2
}